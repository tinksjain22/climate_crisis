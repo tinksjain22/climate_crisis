{
  "cells": [
    {
      "cell_type": "code",
      "execution_count": 4,
      "metadata": {
        "colab": {
          "base_uri": "https://localhost:8080/",
          "height": 542
        },
        "id": "LTcZpMPweRqk",
        "outputId": "c8acc805-e923-4755-f063-0aa6c4ec6b03"
      },
      "outputs": [
        {
          "data": {
            "application/vnd.plotly.v1+json": {
              "config": {
                "plotlyServerURL": "https://plot.ly"
              },
              "data": [
                {
                  "coloraxis": "coloraxis",
                  "geo": "geo",
                  "hovertemplate": "Country=%{location}<br>CO2 Emissions (MtCO₂e)=%{z}<extra></extra>",
                  "locationmode": "country names",
                  "locations": [
                    "World",
                    "China",
                    "United States",
                    "European Union (27)",
                    "India",
                    "Indonesia",
                    "Japan",
                    "Russia",
                    "Brazil",
                    "Germany",
                    "Iran",
                    "Canada",
                    "Democratic Republic of the Congo",
                    "South Korea",
                    "Saudi Arabia",
                    "Mexico",
                    "South Africa",
                    "Australia",
                    "Turkey",
                    "United Kingdom",
                    "Malaysia",
                    "Italy",
                    "Poland",
                    "Thailand",
                    "France",
                    "Egypt",
                    "Vietnam",
                    "Spain",
                    "Kazakhstan",
                    "Pakistan",
                    "Argentina",
                    "United Arab Emirates",
                    "Iraq",
                    "Venezuela",
                    "Nigeria",
                    "Ukraine",
                    "Colombia",
                    "Netherlands",
                    "Algeria",
                    "Philippines",
                    "Peru",
                    "Myanmar",
                    "Uzbekistan",
                    "Bangladesh",
                    "Zimbabwe",
                    "Czech Republic",
                    "Belgium",
                    "Qatar",
                    "Bolivia",
                    "Kuwait",
                    "Tanzania",
                    "Oman",
                    "Turkmenistan",
                    "Greece",
                    "Ecuador",
                    "Morocco",
                    "Angola",
                    "Israel",
                    "Mozambique",
                    "Libya",
                    "Austria",
                    "Paraguay",
                    "Romania",
                    "Finland",
                    "Portugal",
                    "Botswana",
                    "Papua New Guinea",
                    "Hungary",
                    "Ethiopia",
                    "Singapore",
                    "Solomon Islands",
                    "Serbia",
                    "Cameroon",
                    "Sudan",
                    "Zambia",
                    "Cambodia",
                    "Belarus",
                    "Côte d'Ivoire",
                    "Switzerland",
                    "Ireland",
                    "Denmark",
                    "Slovakia",
                    "Bahrain",
                    "Azerbaijan",
                    "Chile",
                    "Burkina Faso",
                    "Syria",
                    "Lebanon",
                    "Laos",
                    "Tunisia",
                    "Nicaragua",
                    "Jordan",
                    "Mongolia",
                    "Chad",
                    "Dominican Republic",
                    "Sri Lanka",
                    "Uganda",
                    "Cuba",
                    "New Zealand",
                    "Guatemala",
                    "North Korea",
                    "Bosnia and Herzegovina",
                    "Sweden",
                    "Benin",
                    "Norway",
                    "Somalia",
                    "Estonia",
                    "Trinidad and Tobago",
                    "Guyana",
                    "Guinea",
                    "Honduras",
                    "Nepal",
                    "Namibia",
                    "Liberia",
                    "Panama",
                    "Slovenia",
                    "Central African Republic",
                    "Senegal",
                    "Republic of Congo",
                    "Madagascar",
                    "Croatia",
                    "Suriname",
                    "Gabon",
                    "Lithuania",
                    "Kenya",
                    "Equatorial Guinea",
                    "South Sudan",
                    "Malawi",
                    "Georgia",
                    "Yemen",
                    "Luxembourg",
                    "Moldova",
                    "Jamaica",
                    "El Salvador",
                    "Kyrgyzstan",
                    "Afghanistan",
                    "Brunei",
                    "Macedonia",
                    "Bulgaria",
                    "Tajikistan",
                    "Cyprus",
                    "Belize",
                    "Mali",
                    "Armenia",
                    "Albania",
                    "Latvia",
                    "Uruguay",
                    "Sierra Leone",
                    "Mauritius",
                    "Burundi",
                    "Haiti",
                    "Niger",
                    "Togo",
                    "Mauritania",
                    "Rwanda",
                    "Lesotho",
                    "Montenegro",
                    "Bahamas",
                    "Iceland",
                    "Maldives",
                    "Guinea-Bissau",
                    "Malta",
                    "Barbados",
                    "Eritrea",
                    "Gambia",
                    "Timor-Leste",
                    "Eswatini",
                    "Costa Rica",
                    "Seychelles",
                    "Cape Verde",
                    "Antigua and Barbuda",
                    "Djibouti",
                    "Andorra",
                    "Samoa",
                    "Sao Tome and Principe",
                    "Comoros",
                    "Grenada",
                    "Palau",
                    "Saint Vincent and the Grenadines",
                    "Saint Kitts and Nevis",
                    "Saint Lucia",
                    "Marshall Islands",
                    "Tonga",
                    "Vanuatu",
                    "Dominica",
                    "Micronesia",
                    "Liechtenstein",
                    "Cook Islands",
                    "Kiribati",
                    "Bhutan",
                    "Nauru",
                    "Tuvalu",
                    "Niue",
                    "Fiji",
                    "Ghana"
                  ],
                  "name": "",
                  "type": "choropleth",
                  "z": [
                    36441.55,
                    9663.36,
                    4749.57,
                    2636.99,
                    2400.25,
                    1269.55,
                    1074.08,
                    1049.05,
                    812.02,
                    680.06,
                    629.35,
                    609.67,
                    603.57,
                    585.07,
                    514.6,
                    486.58,
                    439.8,
                    388.81,
                    384.32,
                    347.84,
                    319.59,
                    312.03,
                    279.83,
                    270.9,
                    247.98,
                    246.45,
                    245.36,
                    244.45,
                    217.46,
                    215.37,
                    207.11,
                    200.3,
                    188.64,
                    181.29,
                    176.66,
                    173.18,
                    162.46,
                    152.52,
                    151.87,
                    144.7,
                    144.07,
                    136.92,
                    108.72,
                    104.5,
                    99.43,
                    96.66,
                    93.63,
                    90.17,
                    90.09,
                    89.45,
                    75.68,
                    73.39,
                    71.73,
                    66.68,
                    65.68,
                    64.74,
                    62.93,
                    62.05,
                    59.47,
                    58.94,
                    56.06,
                    54.4,
                    52,
                    51.3,
                    50.07,
                    49.54,
                    48.46,
                    48.28,
                    48,
                    47.39,
                    45.78,
                    45.45,
                    42.38,
                    41.2,
                    40.47,
                    40.16,
                    37.8,
                    36.55,
                    35.23,
                    34.32,
                    34.23,
                    31.93,
                    30.75,
                    30.1,
                    28.75,
                    28.37,
                    27.92,
                    27.63,
                    27.46,
                    26.19,
                    24.72,
                    24.7,
                    24.42,
                    24.4,
                    23.56,
                    23.54,
                    21.95,
                    21.92,
                    21.59,
                    21.48,
                    21.41,
                    20.81,
                    19.68,
                    18.62,
                    18.43,
                    18.04,
                    17.96,
                    17.88,
                    16.51,
                    15.35,
                    15.3,
                    14.97,
                    14.81,
                    14.76,
                    14.53,
                    14.39,
                    14.31,
                    14.19,
                    13.69,
                    13.49,
                    12.24,
                    11.44,
                    11.08,
                    10.95,
                    10.78,
                    10.51,
                    10.28,
                    9.71,
                    9.46,
                    9.31,
                    9.04,
                    8.7,
                    8.69,
                    7.89,
                    7.73,
                    7.59,
                    7.47,
                    7.37,
                    7.32,
                    7.2,
                    6.98,
                    5.92,
                    5.62,
                    5.59,
                    5.32,
                    4.85,
                    4.75,
                    4.36,
                    4.11,
                    4.07,
                    3.96,
                    3.53,
                    3.07,
                    2.92,
                    2.73,
                    2.57,
                    2.55,
                    2.26,
                    2.11,
                    1.91,
                    1.8,
                    1.54,
                    1.25,
                    1.24,
                    1.1,
                    1.1,
                    0.96,
                    0.95,
                    0.62,
                    0.56,
                    0.53,
                    0.49,
                    0.46,
                    0.43,
                    0.35,
                    0.32,
                    0.3,
                    0.29,
                    0.28,
                    0.26,
                    0.24,
                    0.19,
                    0.19,
                    0.18,
                    0.16,
                    0.15,
                    0.14,
                    0.08,
                    0.08,
                    0.07,
                    0.07,
                    0.01,
                    0,
                    -0.65,
                    -8.82
                  ]
                }
              ],
              "layout": {
                "coloraxis": {
                  "cmax": 10000,
                  "cmin": 35,
                  "colorbar": {
                    "title": {
                      "text": "CO2 Emissions (MtCO₂e)"
                    }
                  },
                  "colorscale": [
                    [
                      0,
                      "rgb(255,255,204)"
                    ],
                    [
                      0.125,
                      "rgb(255,237,160)"
                    ],
                    [
                      0.25,
                      "rgb(254,217,118)"
                    ],
                    [
                      0.375,
                      "rgb(254,178,76)"
                    ],
                    [
                      0.5,
                      "rgb(253,141,60)"
                    ],
                    [
                      0.625,
                      "rgb(252,78,42)"
                    ],
                    [
                      0.75,
                      "rgb(227,26,28)"
                    ],
                    [
                      0.875,
                      "rgb(189,0,38)"
                    ],
                    [
                      1,
                      "rgb(128,0,38)"
                    ]
                  ]
                },
                "geo": {
                  "center": {},
                  "domain": {
                    "x": [
                      0,
                      1
                    ],
                    "y": [
                      0,
                      1
                    ]
                  },
                  "projection": {
                    "type": "natural earth"
                  }
                },
                "legend": {
                  "tracegroupgap": 0
                },
                "template": {
                  "data": {
                    "bar": [
                      {
                        "error_x": {
                          "color": "#2a3f5f"
                        },
                        "error_y": {
                          "color": "#2a3f5f"
                        },
                        "marker": {
                          "line": {
                            "color": "#E5ECF6",
                            "width": 0.5
                          },
                          "pattern": {
                            "fillmode": "overlay",
                            "size": 10,
                            "solidity": 0.2
                          }
                        },
                        "type": "bar"
                      }
                    ],
                    "barpolar": [
                      {
                        "marker": {
                          "line": {
                            "color": "#E5ECF6",
                            "width": 0.5
                          },
                          "pattern": {
                            "fillmode": "overlay",
                            "size": 10,
                            "solidity": 0.2
                          }
                        },
                        "type": "barpolar"
                      }
                    ],
                    "carpet": [
                      {
                        "aaxis": {
                          "endlinecolor": "#2a3f5f",
                          "gridcolor": "white",
                          "linecolor": "white",
                          "minorgridcolor": "white",
                          "startlinecolor": "#2a3f5f"
                        },
                        "baxis": {
                          "endlinecolor": "#2a3f5f",
                          "gridcolor": "white",
                          "linecolor": "white",
                          "minorgridcolor": "white",
                          "startlinecolor": "#2a3f5f"
                        },
                        "type": "carpet"
                      }
                    ],
                    "choropleth": [
                      {
                        "colorbar": {
                          "outlinewidth": 0,
                          "ticks": ""
                        },
                        "type": "choropleth"
                      }
                    ],
                    "contour": [
                      {
                        "colorbar": {
                          "outlinewidth": 0,
                          "ticks": ""
                        },
                        "colorscale": [
                          [
                            0,
                            "#0d0887"
                          ],
                          [
                            0.1111111111111111,
                            "#46039f"
                          ],
                          [
                            0.2222222222222222,
                            "#7201a8"
                          ],
                          [
                            0.3333333333333333,
                            "#9c179e"
                          ],
                          [
                            0.4444444444444444,
                            "#bd3786"
                          ],
                          [
                            0.5555555555555556,
                            "#d8576b"
                          ],
                          [
                            0.6666666666666666,
                            "#ed7953"
                          ],
                          [
                            0.7777777777777778,
                            "#fb9f3a"
                          ],
                          [
                            0.8888888888888888,
                            "#fdca26"
                          ],
                          [
                            1,
                            "#f0f921"
                          ]
                        ],
                        "type": "contour"
                      }
                    ],
                    "contourcarpet": [
                      {
                        "colorbar": {
                          "outlinewidth": 0,
                          "ticks": ""
                        },
                        "type": "contourcarpet"
                      }
                    ],
                    "heatmap": [
                      {
                        "colorbar": {
                          "outlinewidth": 0,
                          "ticks": ""
                        },
                        "colorscale": [
                          [
                            0,
                            "#0d0887"
                          ],
                          [
                            0.1111111111111111,
                            "#46039f"
                          ],
                          [
                            0.2222222222222222,
                            "#7201a8"
                          ],
                          [
                            0.3333333333333333,
                            "#9c179e"
                          ],
                          [
                            0.4444444444444444,
                            "#bd3786"
                          ],
                          [
                            0.5555555555555556,
                            "#d8576b"
                          ],
                          [
                            0.6666666666666666,
                            "#ed7953"
                          ],
                          [
                            0.7777777777777778,
                            "#fb9f3a"
                          ],
                          [
                            0.8888888888888888,
                            "#fdca26"
                          ],
                          [
                            1,
                            "#f0f921"
                          ]
                        ],
                        "type": "heatmap"
                      }
                    ],
                    "heatmapgl": [
                      {
                        "colorbar": {
                          "outlinewidth": 0,
                          "ticks": ""
                        },
                        "colorscale": [
                          [
                            0,
                            "#0d0887"
                          ],
                          [
                            0.1111111111111111,
                            "#46039f"
                          ],
                          [
                            0.2222222222222222,
                            "#7201a8"
                          ],
                          [
                            0.3333333333333333,
                            "#9c179e"
                          ],
                          [
                            0.4444444444444444,
                            "#bd3786"
                          ],
                          [
                            0.5555555555555556,
                            "#d8576b"
                          ],
                          [
                            0.6666666666666666,
                            "#ed7953"
                          ],
                          [
                            0.7777777777777778,
                            "#fb9f3a"
                          ],
                          [
                            0.8888888888888888,
                            "#fdca26"
                          ],
                          [
                            1,
                            "#f0f921"
                          ]
                        ],
                        "type": "heatmapgl"
                      }
                    ],
                    "histogram": [
                      {
                        "marker": {
                          "pattern": {
                            "fillmode": "overlay",
                            "size": 10,
                            "solidity": 0.2
                          }
                        },
                        "type": "histogram"
                      }
                    ],
                    "histogram2d": [
                      {
                        "colorbar": {
                          "outlinewidth": 0,
                          "ticks": ""
                        },
                        "colorscale": [
                          [
                            0,
                            "#0d0887"
                          ],
                          [
                            0.1111111111111111,
                            "#46039f"
                          ],
                          [
                            0.2222222222222222,
                            "#7201a8"
                          ],
                          [
                            0.3333333333333333,
                            "#9c179e"
                          ],
                          [
                            0.4444444444444444,
                            "#bd3786"
                          ],
                          [
                            0.5555555555555556,
                            "#d8576b"
                          ],
                          [
                            0.6666666666666666,
                            "#ed7953"
                          ],
                          [
                            0.7777777777777778,
                            "#fb9f3a"
                          ],
                          [
                            0.8888888888888888,
                            "#fdca26"
                          ],
                          [
                            1,
                            "#f0f921"
                          ]
                        ],
                        "type": "histogram2d"
                      }
                    ],
                    "histogram2dcontour": [
                      {
                        "colorbar": {
                          "outlinewidth": 0,
                          "ticks": ""
                        },
                        "colorscale": [
                          [
                            0,
                            "#0d0887"
                          ],
                          [
                            0.1111111111111111,
                            "#46039f"
                          ],
                          [
                            0.2222222222222222,
                            "#7201a8"
                          ],
                          [
                            0.3333333333333333,
                            "#9c179e"
                          ],
                          [
                            0.4444444444444444,
                            "#bd3786"
                          ],
                          [
                            0.5555555555555556,
                            "#d8576b"
                          ],
                          [
                            0.6666666666666666,
                            "#ed7953"
                          ],
                          [
                            0.7777777777777778,
                            "#fb9f3a"
                          ],
                          [
                            0.8888888888888888,
                            "#fdca26"
                          ],
                          [
                            1,
                            "#f0f921"
                          ]
                        ],
                        "type": "histogram2dcontour"
                      }
                    ],
                    "mesh3d": [
                      {
                        "colorbar": {
                          "outlinewidth": 0,
                          "ticks": ""
                        },
                        "type": "mesh3d"
                      }
                    ],
                    "parcoords": [
                      {
                        "line": {
                          "colorbar": {
                            "outlinewidth": 0,
                            "ticks": ""
                          }
                        },
                        "type": "parcoords"
                      }
                    ],
                    "pie": [
                      {
                        "automargin": true,
                        "type": "pie"
                      }
                    ],
                    "scatter": [
                      {
                        "fillpattern": {
                          "fillmode": "overlay",
                          "size": 10,
                          "solidity": 0.2
                        },
                        "type": "scatter"
                      }
                    ],
                    "scatter3d": [
                      {
                        "line": {
                          "colorbar": {
                            "outlinewidth": 0,
                            "ticks": ""
                          }
                        },
                        "marker": {
                          "colorbar": {
                            "outlinewidth": 0,
                            "ticks": ""
                          }
                        },
                        "type": "scatter3d"
                      }
                    ],
                    "scattercarpet": [
                      {
                        "marker": {
                          "colorbar": {
                            "outlinewidth": 0,
                            "ticks": ""
                          }
                        },
                        "type": "scattercarpet"
                      }
                    ],
                    "scattergeo": [
                      {
                        "marker": {
                          "colorbar": {
                            "outlinewidth": 0,
                            "ticks": ""
                          }
                        },
                        "type": "scattergeo"
                      }
                    ],
                    "scattergl": [
                      {
                        "marker": {
                          "colorbar": {
                            "outlinewidth": 0,
                            "ticks": ""
                          }
                        },
                        "type": "scattergl"
                      }
                    ],
                    "scattermapbox": [
                      {
                        "marker": {
                          "colorbar": {
                            "outlinewidth": 0,
                            "ticks": ""
                          }
                        },
                        "type": "scattermapbox"
                      }
                    ],
                    "scatterpolar": [
                      {
                        "marker": {
                          "colorbar": {
                            "outlinewidth": 0,
                            "ticks": ""
                          }
                        },
                        "type": "scatterpolar"
                      }
                    ],
                    "scatterpolargl": [
                      {
                        "marker": {
                          "colorbar": {
                            "outlinewidth": 0,
                            "ticks": ""
                          }
                        },
                        "type": "scatterpolargl"
                      }
                    ],
                    "scatterternary": [
                      {
                        "marker": {
                          "colorbar": {
                            "outlinewidth": 0,
                            "ticks": ""
                          }
                        },
                        "type": "scatterternary"
                      }
                    ],
                    "surface": [
                      {
                        "colorbar": {
                          "outlinewidth": 0,
                          "ticks": ""
                        },
                        "colorscale": [
                          [
                            0,
                            "#0d0887"
                          ],
                          [
                            0.1111111111111111,
                            "#46039f"
                          ],
                          [
                            0.2222222222222222,
                            "#7201a8"
                          ],
                          [
                            0.3333333333333333,
                            "#9c179e"
                          ],
                          [
                            0.4444444444444444,
                            "#bd3786"
                          ],
                          [
                            0.5555555555555556,
                            "#d8576b"
                          ],
                          [
                            0.6666666666666666,
                            "#ed7953"
                          ],
                          [
                            0.7777777777777778,
                            "#fb9f3a"
                          ],
                          [
                            0.8888888888888888,
                            "#fdca26"
                          ],
                          [
                            1,
                            "#f0f921"
                          ]
                        ],
                        "type": "surface"
                      }
                    ],
                    "table": [
                      {
                        "cells": {
                          "fill": {
                            "color": "#EBF0F8"
                          },
                          "line": {
                            "color": "white"
                          }
                        },
                        "header": {
                          "fill": {
                            "color": "#C8D4E3"
                          },
                          "line": {
                            "color": "white"
                          }
                        },
                        "type": "table"
                      }
                    ]
                  },
                  "layout": {
                    "annotationdefaults": {
                      "arrowcolor": "#2a3f5f",
                      "arrowhead": 0,
                      "arrowwidth": 1
                    },
                    "autotypenumbers": "strict",
                    "coloraxis": {
                      "colorbar": {
                        "outlinewidth": 0,
                        "ticks": ""
                      }
                    },
                    "colorscale": {
                      "diverging": [
                        [
                          0,
                          "#8e0152"
                        ],
                        [
                          0.1,
                          "#c51b7d"
                        ],
                        [
                          0.2,
                          "#de77ae"
                        ],
                        [
                          0.3,
                          "#f1b6da"
                        ],
                        [
                          0.4,
                          "#fde0ef"
                        ],
                        [
                          0.5,
                          "#f7f7f7"
                        ],
                        [
                          0.6,
                          "#e6f5d0"
                        ],
                        [
                          0.7,
                          "#b8e186"
                        ],
                        [
                          0.8,
                          "#7fbc41"
                        ],
                        [
                          0.9,
                          "#4d9221"
                        ],
                        [
                          1,
                          "#276419"
                        ]
                      ],
                      "sequential": [
                        [
                          0,
                          "#0d0887"
                        ],
                        [
                          0.1111111111111111,
                          "#46039f"
                        ],
                        [
                          0.2222222222222222,
                          "#7201a8"
                        ],
                        [
                          0.3333333333333333,
                          "#9c179e"
                        ],
                        [
                          0.4444444444444444,
                          "#bd3786"
                        ],
                        [
                          0.5555555555555556,
                          "#d8576b"
                        ],
                        [
                          0.6666666666666666,
                          "#ed7953"
                        ],
                        [
                          0.7777777777777778,
                          "#fb9f3a"
                        ],
                        [
                          0.8888888888888888,
                          "#fdca26"
                        ],
                        [
                          1,
                          "#f0f921"
                        ]
                      ],
                      "sequentialminus": [
                        [
                          0,
                          "#0d0887"
                        ],
                        [
                          0.1111111111111111,
                          "#46039f"
                        ],
                        [
                          0.2222222222222222,
                          "#7201a8"
                        ],
                        [
                          0.3333333333333333,
                          "#9c179e"
                        ],
                        [
                          0.4444444444444444,
                          "#bd3786"
                        ],
                        [
                          0.5555555555555556,
                          "#d8576b"
                        ],
                        [
                          0.6666666666666666,
                          "#ed7953"
                        ],
                        [
                          0.7777777777777778,
                          "#fb9f3a"
                        ],
                        [
                          0.8888888888888888,
                          "#fdca26"
                        ],
                        [
                          1,
                          "#f0f921"
                        ]
                      ]
                    },
                    "colorway": [
                      "#636efa",
                      "#EF553B",
                      "#00cc96",
                      "#ab63fa",
                      "#FFA15A",
                      "#19d3f3",
                      "#FF6692",
                      "#B6E880",
                      "#FF97FF",
                      "#FECB52"
                    ],
                    "font": {
                      "color": "#2a3f5f"
                    },
                    "geo": {
                      "bgcolor": "white",
                      "lakecolor": "white",
                      "landcolor": "#E5ECF6",
                      "showlakes": true,
                      "showland": true,
                      "subunitcolor": "white"
                    },
                    "hoverlabel": {
                      "align": "left"
                    },
                    "hovermode": "closest",
                    "mapbox": {
                      "style": "light"
                    },
                    "paper_bgcolor": "white",
                    "plot_bgcolor": "#E5ECF6",
                    "polar": {
                      "angularaxis": {
                        "gridcolor": "white",
                        "linecolor": "white",
                        "ticks": ""
                      },
                      "bgcolor": "#E5ECF6",
                      "radialaxis": {
                        "gridcolor": "white",
                        "linecolor": "white",
                        "ticks": ""
                      }
                    },
                    "scene": {
                      "xaxis": {
                        "backgroundcolor": "#E5ECF6",
                        "gridcolor": "white",
                        "gridwidth": 2,
                        "linecolor": "white",
                        "showbackground": true,
                        "ticks": "",
                        "zerolinecolor": "white"
                      },
                      "yaxis": {
                        "backgroundcolor": "#E5ECF6",
                        "gridcolor": "white",
                        "gridwidth": 2,
                        "linecolor": "white",
                        "showbackground": true,
                        "ticks": "",
                        "zerolinecolor": "white"
                      },
                      "zaxis": {
                        "backgroundcolor": "#E5ECF6",
                        "gridcolor": "white",
                        "gridwidth": 2,
                        "linecolor": "white",
                        "showbackground": true,
                        "ticks": "",
                        "zerolinecolor": "white"
                      }
                    },
                    "shapedefaults": {
                      "line": {
                        "color": "#2a3f5f"
                      }
                    },
                    "ternary": {
                      "aaxis": {
                        "gridcolor": "white",
                        "linecolor": "white",
                        "ticks": ""
                      },
                      "baxis": {
                        "gridcolor": "white",
                        "linecolor": "white",
                        "ticks": ""
                      },
                      "bgcolor": "#E5ECF6",
                      "caxis": {
                        "gridcolor": "white",
                        "linecolor": "white",
                        "ticks": ""
                      }
                    },
                    "title": {
                      "x": 0.05
                    },
                    "xaxis": {
                      "automargin": true,
                      "gridcolor": "white",
                      "linecolor": "white",
                      "ticks": "",
                      "title": {
                        "standoff": 15
                      },
                      "zerolinecolor": "white",
                      "zerolinewidth": 2
                    },
                    "yaxis": {
                      "automargin": true,
                      "gridcolor": "white",
                      "linecolor": "white",
                      "ticks": "",
                      "title": {
                        "standoff": 15
                      },
                      "zerolinecolor": "white",
                      "zerolinewidth": 2
                    }
                  }
                },
                "title": {
                  "text": "Global CO2 Emissions in 2018"
                }
              }
            }
          },
          "metadata": {},
          "output_type": "display_data"
        }
      ],
      "source": [
        "import pandas as pd\n",
        "import plotly.express as px\n",
        "\n",
        "# Load your emissions data\n",
        "# Adjust the path to your actual file location\n",
        "data = pd.read_csv('/Users/tinklejain1997/Desktop/historical_emissions.csv')\n",
        "\n",
        "# Select relevant columns and filter for the year 2018\n",
        "data_2018 = data[['Country', '2018']].copy()\n",
        "data_2018.columns = ['Country', 'Emissions']\n",
        "\n",
        "# Create a choropleth map\n",
        "fig = px.choropleth(\n",
        "    data_frame=data_2018,\n",
        "    locations='Country',  # Column with country names\n",
        "    locationmode='country names',  # Use 'country names' for full names\n",
        "    color='Emissions',  # Column with CO2 emissions\n",
        "    color_continuous_scale='YlOrRd',  # Color scale from yellow to red\n",
        "    title='Global CO2 Emissions in 2018',\n",
        "    labels={'Emissions': 'CO2 Emissions (MtCO₂e)'},\n",
        "    projection='natural earth',\n",
        "    range_color=[35, 10000]  # Set the range for the color scale\n",
        ")\n",
        "\n",
        "# Show the plot\n",
        "fig.show()\n",
        "#fig.write_html(\"CO2_emissions_2018.html\")"
      ]
    },
    {
      "cell_type": "code",
      "execution_count": 5,
      "metadata": {
        "colab": {
          "base_uri": "https://localhost:8080/",
          "height": 622
        },
        "id": "Z3ks5lpTZxn_",
        "outputId": "eb03bd1e-4159-40f1-fd01-d3417a3ef0cd"
      },
      "outputs": [
        {
          "data": {
            "image/png": "[encoded data removed]",
            "text/plain": [
              "<Figure size 1000x700 with 1 Axes>"
            ]
          },
          "metadata": {},
          "output_type": "display_data"
        }
      ],
      "source": [
        "import pandas as pd\n",
        "import matplotlib.pyplot as plt\n",
        "\n",
        "# Load the emissions data (replace with your correct path)\n",
        "emissions_data = pd.read_csv('/Users/tinklejain1997/Desktop/historical_emissions.csv')\n",
        "\n",
        "# Drop unnecessary columns ('Data source', 'Sector', 'Gas', 'Unit')\n",
        "emissions_data = emissions_data.drop(columns=['Data source', 'Sector', 'Gas', 'Unit'])\n",
        "\n",
        "# Convert the year columns to numeric\n",
        "emission_years = emissions_data.columns[1:]  # Columns representing years (starting from 1990)\n",
        "emissions_data[emission_years] = emissions_data[emission_years].apply(pd.to_numeric, errors='coerce')\n",
        "# Filter emissions for top contributing countries\n",
        "top_countries = ['China', 'United States', 'India', 'European Union (27)', 'Russia', 'Japan']\n",
        "top_emissions = emissions_data[emissions_data['Country'].isin(top_countries)]\n",
        "top_emissions = top_emissions.set_index('Country').T[1:]\n",
        "\n",
        "top_emissions= top_emissions.iloc[::-1]\n",
        "\n",
        "\n",
        "# Stacked area plot for top countries' emissions over time\n",
        "top_emissions.plot(kind='area', figsize=(10, 7), stacked=True, colormap='tab20')\n",
        "plt.title('CO2 Emissions by Top Regions (1990-2018)')\n",
        "plt.ylabel('CO2 Emissions (MtCO₂e)')\n",
        "plt.legend(loc='upper left')\n",
        "plt.show()\n"
      ]
    }
  ],
  "metadata": {
    "colab": {
      "provenance": []
    },
    "kernelspec": {
      "display_name": "Python 3",
      "name": "python3"
    },
    "language_info": {
      "codemirror_mode": {
        "name": "ipython",
        "version": 3
      },
      "file_extension": ".py",
      "mimetype": "text/x-python",
      "name": "python",
      "nbconvert_exporter": "python",
      "pygments_lexer": "ipython3",
      "version": "3.10.14"
    }
  },
  "nbformat": 4,
  "nbformat_minor": 0
}
